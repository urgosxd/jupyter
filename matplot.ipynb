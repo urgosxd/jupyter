{
 "cells": [
  {
   "cell_type": "code",
   "execution_count": 1,
   "metadata": {
    "scrolled": true
   },
   "outputs": [],
   "source": [
    "%matplotlib inline\n",
    "from sympy import *\n",
    "\n",
    "from funciones import Funciones,funcionesOperaciones,funcionesCompo,funcionesConjuntos,funcionesOperacionesConjuntos\n",
    "\n",
    "x,y = symbols(\"x y\",real=True)\n",
    "# asd_0 = solve(x*y-2*y-x-4,y)\n",
    "# exp= (2*x-5)/(x-3)\n",
    "\n",
    "# dominio,rango,plt = Funciones(x,exp)\n",
    "\n",
    "\n"
   ]
  },
  {
   "cell_type": "code",
   "execution_count": 3,
   "metadata": {},
   "outputs": [
    {
     "output_type": "execute_result",
     "data": {
      "text/plain": [
       "[[2, 4], [3, 3], [4, 10]]"
      ]
     },
     "metadata": {},
     "execution_count": 3
    }
   ],
   "source": [
    "tups = [[[-1,2],[0,0],[2,4],[3,-1],[4,3]],[[2,0],[3,4],[4,7],[6,2]]]\n",
    "fin,al = funcionesOperacionesConjuntos(tups,\"suma\")\n",
    "fin"
   ]
  },
  {
   "cell_type": "code",
   "execution_count": 4,
   "metadata": {},
   "outputs": [
    {
     "output_type": "execute_result",
     "data": {
      "text/plain": [
       "[2, 3, 4]"
      ]
     },
     "metadata": {},
     "execution_count": 4
    }
   ],
   "source": [
    "al"
   ]
  },
  {
   "cell_type": "code",
   "execution_count": 9,
   "metadata": {},
   "outputs": [
    {
     "output_type": "execute_result",
     "data": {
      "text/plain": [
       "36"
      ],
      "text/latex": "$\\displaystyle 36$"
     },
     "metadata": {},
     "execution_count": 9
    }
   ],
   "source": [
    "d_0=x**2+2*x+3\n",
    "d_1=x-5\n",
    "num = funcionesCompo((d_0,d_1),True,x,1)\n",
    "deno = funcionesCompo((d_0,d_1),True,x,2)\n",
    "Pow(num/deno,-2)\n"
   ]
  },
  {
   "cell_type": "code",
   "execution_count": 14,
   "metadata": {},
   "outputs": [
    {
     "output_type": "execute_result",
     "data": {
      "text/plain": [
       "Union(Interval.Ropen(-2, -1/3), Interval.Lopen(-1/3, 2))"
      ],
      "text/latex": "$\\displaystyle \\left[-2, - \\frac{1}{3}\\right) \\cup \\left(- \\frac{1}{3}, 2\\right]$"
     },
     "metadata": {},
     "execution_count": 14
    }
   ],
   "source": [
    "dominio"
   ]
  },
  {
   "cell_type": "code",
   "execution_count": 4,
   "metadata": {},
   "outputs": [
    {
     "output_type": "execute_result",
     "data": {
      "text/plain": [
       "[[1, 3], [2, 3], [5, 3]]"
      ]
     },
     "metadata": {},
     "execution_count": 4
    }
   ],
   "source": [
    "arr_1 = [[0,1],[1,2],[2,3],[4,3],[5,2]]\n",
    "arr_2 = [[6,7],[5,4],[4,3],[2,4],[1,4],[0,7]] \n",
    "               \n",
    "arr,dom = funcionesConjuntos(arr_1,arr_2,False)\n",
    "arr\n"
   ]
  },
  {
   "cell_type": "code",
   "execution_count": null,
   "metadata": {},
   "outputs": [],
   "source": []
  }
 ],
 "metadata": {
  "kernelspec": {
   "display_name": "Python 3",
   "language": "python",
   "name": "python3"
  },
  "language_info": {
   "codemirror_mode": {
    "name": "ipython",
    "version": 3
   },
   "file_extension": ".py",
   "mimetype": "text/x-python",
   "name": "python",
   "nbconvert_exporter": "python",
   "pygments_lexer": "ipython3",
   "version": "3.8.5-final"
  }
 },
 "nbformat": 4,
 "nbformat_minor": 4
}