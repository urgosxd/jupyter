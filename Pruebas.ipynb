{
 "cells": [
  {
   "cell_type": "markdown",
   "metadata": {},
   "source": [
    "# Comensando con Jupyter \n",
    "Aqui verem\n",
    "os como comiensa la historia\n"
   ]
  },
  {
   "cell_type": "code",
   "execution_count": 11,
   "metadata": {},
   "outputs": [
    {
     "name": "stdout",
     "output_type": "stream",
     "text": [
      "Requirement already satisfied: sympy in /data/data/ru.iiec.pydroid3/files/arm-linux-androideabi/lib/python3.8/site-packages (1.7.1)\n",
      "Requirement already satisfied: mpmath>=0.19 in /data/data/ru.iiec.pydroid3/files/arm-linux-androideabi/lib/python3.8/site-packages (from sympy) (1.1.0)\n",
      "\u001b[33mWARNING: You are using pip version 20.1.1; however, version 20.3.3 is available.\n",
      "You should consider upgrading via the '/data/user/0/ru.iiec.pydroid3/files/arm-linux-androideabi/bin/python3.8 -m pip install --upgrade pip' command.\u001b[0m\n"
     ]
    }
   ],
   "source": [
    "import sys\n",
    "!{sys.executable} -m pip install sympy"
   ]
  },
  {
   "cell_type": "code",
   "execution_count": 1,
   "metadata": {},
   "outputs": [],
   "source": [
    "from sympy import *\n",
    "import funciones\n",
    "x = symbols(\"x\",real=True)"
   ]
  },
  {
   "cell_type": "code",
   "execution_count": 23,
   "metadata": {},
   "outputs": [
    {
     "data": {
      "text/latex": [
       "$\\displaystyle \\left(x - 4\\right)^{2} - \\left|{x - 5}\\right| - 6$"
      ],
      "text/plain": [
       "(x - 4)**2 - Abs(x - 5) - 6"
      ]
     },
     "execution_count": 23,
     "metadata": {},
     "output_type": "execute_result"
    }
   ],
   "source": [
    "exp = Abs(x-4)**2 - Abs(x-5)-6\n",
    "exp"
   ]
  },
  {
   "cell_type": "code",
   "execution_count": 26,
   "metadata": {},
   "outputs": [
    {
     "data": {
      "text/latex": [
       "$\\displaystyle \\left\\{\\frac{7}{2} - \\frac{\\sqrt{29}}{2}, \\frac{\\sqrt{21}}{2} + \\frac{9}{2}\\right\\}$"
      ],
      "text/plain": [
       "FiniteSet(7/2 - sqrt(29)/2, sqrt(21)/2 + 9/2)"
      ]
     },
     "execution_count": 26,
     "metadata": {},
     "output_type": "execute_result"
    }
   ],
   "source": [
    "solveset(exp,x,domain=S.Reals)"
   ]
  },
  {
   "cell_type": "code",
   "execution_count": 8,
   "metadata": {},
   "outputs": [
    {
     "data": {
      "text/latex": [
       "$\\displaystyle \\frac{\\left(x^{2} + 2 x + 4\\right) \\left(2 x^{2} + 3 x + 4\\right)}{x^{2} + 5 x + 6}$"
      ],
      "text/plain": [
       "(x**2 + 2*x + 4)*(2*x**2 + 3*x + 4)/(x**2 + 5*x + 6)"
      ]
     },
     "execution_count": 8,
     "metadata": {},
     "output_type": "execute_result"
    }
   ],
   "source": [
    "exp = ((2*x**2+3*x+4)*(x**2+2*x+4))*Pow(x**2+5*x+6,-1)\n",
    "exp"
   ]
  },
  {
   "cell_type": "code",
   "execution_count": 7,
   "metadata": {},
   "outputs": [
    {
     "data": {
      "text/latex": [
       "$\\displaystyle \\left(-3, -2\\right)$"
      ],
      "text/plain": [
       "Interval.open(-3, -2)"
      ]
     },
     "execution_count": 7,
     "metadata": {},
     "output_type": "execute_result"
    }
   ],
   "source": [
    "solveset(exp<=0,x,S.Reals)"
   ]
  },
  {
   "cell_type": "code",
   "execution_count": 2,
   "metadata": {},
   "outputs": [
    {
     "data": {
      "text/plain": [
       "11"
      ]
     },
     "execution_count": 2,
     "metadata": {},
     "output_type": "execute_result"
    }
   ],
   "source": [
    "funciones.sum(5,6)"
   ]
  },
  {
   "cell_type": "code",
   "execution_count": null,
   "metadata": {},
   "outputs": [],
   "source": []
  }
 ],
 "metadata": {
  "kernelspec": {
   "display_name": "Python 3",
   "language": "python",
   "name": "python3"
  },
  "language_info": {
   "codemirror_mode": {
    "name": "ipython",
    "version": 3
   },
   "file_extension": ".py",
   "mimetype": "text/x-python",
   "name": "python",
   "nbconvert_exporter": "python",
   "pygments_lexer": "ipython3",
   "version": "3.8.3"
  }
 },
 "nbformat": 4,
 "nbformat_minor": 4
}
